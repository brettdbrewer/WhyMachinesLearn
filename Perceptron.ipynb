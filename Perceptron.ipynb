{
  "nbformat": 4,
  "nbformat_minor": 0,
  "metadata": {
    "colab": {
      "provenance": []
    },
    "kernelspec": {
      "name": "python3",
      "display_name": "Python 3"
    },
    "language_info": {
      "name": "python"
    }
  },
  "cells": [
    {
      "cell_type": "markdown",
      "source": [
        "Import the necessary packages"
      ],
      "metadata": {
        "id": "JN46vh123eIi"
      }
    },
    {
      "cell_type": "code",
      "execution_count": 12,
      "metadata": {
        "id": "Q2LqD1paramx",
        "collapsed": true
      },
      "outputs": [],
      "source": [
        "import numpy as np\n",
        "import matplotlib.pyplot as plt"
      ]
    },
    {
      "cell_type": "markdown",
      "source": [
        "Create a dataset that is linearly separable"
      ],
      "metadata": {
        "id": "jBZIPszD3q-P"
      }
    },
    {
      "cell_type": "code",
      "source": [
        "# Generate a simple dataset for classification with data points that are somewhat close to make it harder to find solution\n",
        "np.random.seed(0)\n",
        "class_1 = np.random.randn(10, 2) * 0.5 + np.array([1, 1])  # Class 1 points\n",
        "class_2 = np.random.randn(10, 2) * 0.5 + np.array([0, 0])  # Class 2 points\n",
        "data = np.vstack((class_1, class_2))\n",
        "labels = np.hstack((np.ones(10), -1 * np.ones(10)))  # Labels: 1 and -1"
      ],
      "metadata": {
        "id": "uRV0etDA35on"
      },
      "execution_count": 13,
      "outputs": []
    },
    {
      "cell_type": "markdown",
      "source": [
        "Initialize the weights and bias"
      ],
      "metadata": {
        "id": "XmLeKBzE3aoz"
      }
    },
    {
      "cell_type": "code",
      "source": [
        "# Initialize perceptron weights and bias\n",
        "weights = np.random.rand(2)\n",
        "bias = np.random.rand()\n",
        "learning_rate = 0.1"
      ],
      "metadata": {
        "id": "03k520sP4nPq"
      },
      "execution_count": 14,
      "outputs": []
    },
    {
      "cell_type": "markdown",
      "source": [
        "Define the plotting function that plots the old weights vector and hyperplane, new weights vector and hyperplan and the correction vector to the old weights vector. With this visualization you can see the vector addition that is applied to get the new weights vector/hyperplane."
      ],
      "metadata": {
        "id": "VJjtzSPH4s1v"
      }
    },
    {
      "cell_type": "code",
      "source": [
        "# Visualization helper function\n",
        "def plot_perceptron(data, labels, old_weights, old_bias, new_weights, new_bias, correction, step):\n",
        "    plt.figure(figsize=(8, 6))\n",
        "\n",
        "    # Plot data points\n",
        "    for point, label in zip(data, labels):\n",
        "        color = 'blue' if label == 1 else 'red'\n",
        "        plt.scatter(point[0], point[1], color=color)\n",
        "\n",
        "    # Plot old hyperplane (before correction)\n",
        "    x_vals = np.linspace(-1, 2, 100)\n",
        "    y_vals_old = -(old_weights[0] * x_vals + old_bias) / old_weights[1]\n",
        "    plt.plot(x_vals, y_vals_old, label=\"Old Hyperplane\", color=\"black\")\n",
        "\n",
        "    # Plot new hyperplane (after correction)\n",
        "    y_vals_new = -(new_weights[0] * x_vals + new_bias) / new_weights[1]\n",
        "    plt.plot(x_vals, y_vals_new, label=\"New Hyperplane\", color=\"blue\")\n",
        "\n",
        "    # Anchor point on the old hyperplane (e.g., where x = 0)\n",
        "    anchor_x = 0\n",
        "    anchor_y_old = -old_bias / old_weights[1]  # y = -(w0*x + b) / w1\n",
        "    anchor_y_new = -new_bias / new_weights[1]  # y = -(w0*x + b) / w1\n",
        "\n",
        "    # Plot weight vector (before correction)\n",
        "    plt.quiver(\n",
        "        anchor_x, anchor_y_old, old_weights[0], old_weights[1],\n",
        "        angles='xy', scale_units='xy', scale=1, color='green', label=\"Old Weight Vector\", width=0.005\n",
        "    )\n",
        "\n",
        "    # Plot correction vector\n",
        "    plt.quiver(\n",
        "        anchor_x + old_weights[0], anchor_y_old + old_weights[1], correction[0], correction[1],\n",
        "        angles='xy', scale_units='xy', scale=1, color='orange', label=\"Correction Vector\", width=0.005\n",
        "    )\n",
        "\n",
        "    # Plot weight vector (after correction)\n",
        "    plt.quiver(\n",
        "        anchor_x, anchor_y_new, new_weights[0], new_weights[1],\n",
        "        angles='xy', scale_units='xy', scale=1, color='purple', label=\"New Weight Vector\", width=0.005\n",
        "    )\n",
        "\n",
        "    plt.title(f\"Perceptron Training Step {step}\")\n",
        "    plt.xlim(-1, 2)\n",
        "    plt.ylim(-1, 2)\n",
        "    plt.axhline(0, color='gray', linewidth=0.5)\n",
        "    plt.axvline(0, color='gray', linewidth=0.5)\n",
        "    plt.grid(color='lightgray', linestyle='--', linewidth=0.5)\n",
        "    plt.legend()\n",
        "    plt.show()\n"
      ],
      "metadata": {
        "id": "rC-fuTco4pva"
      },
      "execution_count": 15,
      "outputs": []
    },
    {
      "cell_type": "markdown",
      "source": [
        "Training loop to find solution"
      ],
      "metadata": {
        "id": "0QzJ1CUi5day"
      }
    },
    {
      "cell_type": "code",
      "source": [
        "# Training loop\n",
        "max_steps = 50\n",
        "for step in range(1, max_steps + 1):\n",
        "    all_correct = True\n",
        "\n",
        "    old_weights = weights.copy()\n",
        "    old_bias = bias\n",
        "\n",
        "    for i, point in enumerate(data):\n",
        "        prediction = np.sign(np.dot(weights, point) + bias)\n",
        "        error = labels[i] - prediction\n",
        "\n",
        "        if error != 0:\n",
        "            all_correct = False\n",
        "            correction = learning_rate * error * point\n",
        "            weights += correction\n",
        "            bias += learning_rate * error\n",
        "            plot_perceptron(data, labels, old_weights, old_bias, weights, bias, correction, step)\n",
        "\n",
        "            # Print weight, bias, and correction values\n",
        "            print(f\"Step {step}:\")\n",
        "            print(f\"  Old Weights: {old_weights}\")\n",
        "            print(f\"  Old Bias: {old_bias}\")\n",
        "            print(f\"  Correction: {correction}\")\n",
        "            print(f\"  New Weights: {weights}\")\n",
        "            print(f\"  New Bias: {bias}\")\n",
        "            print(\"=\" * 50)\n",
        "            break  # Visualize one correction per step\n",
        "\n",
        "    if all_correct:\n",
        "        print(\"Training complete!\")\n",
        "        break"
      ],
      "metadata": {
        "id": "rtLmZ3VP5mMt"
      },
      "execution_count": null,
      "outputs": []
    }
  ]
}