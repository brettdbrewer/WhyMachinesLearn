{
  "nbformat": 4,
  "nbformat_minor": 0,
  "metadata": {
    "colab": {
      "provenance": []
    },
    "kernelspec": {
      "name": "python3",
      "display_name": "Python 3"
    },
    "language_info": {
      "name": "python"
    }
  },
  "cells": [
    {
      "cell_type": "markdown",
      "source": [
        "Import the necessary packages"
      ],
      "metadata": {
        "id": "Y9yDsHtcqMQG"
      }
    },
    {
      "cell_type": "code",
      "execution_count": 1,
      "metadata": {
        "id": "uWtg6dolqEFq"
      },
      "outputs": [],
      "source": [
        "import numpy as np\n",
        "import matplotlib.pyplot as plt"
      ]
    },
    {
      "cell_type": "markdown",
      "source": [
        "Initialize variables"
      ],
      "metadata": {
        "id": "zrpWS2TiqSBg"
      }
    },
    {
      "cell_type": "code",
      "source": [
        "# Simulation parameters\n",
        "num_simulations = 1000\n",
        "\n",
        "# Initialize counters for wins\n",
        "stay_wins = 0\n",
        "switch_wins = 0\n",
        "\n",
        "# Arrays to track results over simulations\n",
        "stay_cumulative_wins = []\n",
        "switch_cumulative_wins = []\n",
        "games_played = []"
      ],
      "metadata": {
        "id": "To6CNOpFqb54"
      },
      "execution_count": 2,
      "outputs": []
    },
    {
      "cell_type": "markdown",
      "source": [
        "Simulate 1000 door decisions"
      ],
      "metadata": {
        "id": "PWkoq7RkqdQx"
      }
    },
    {
      "cell_type": "code",
      "source": [
        "# Simulate the Monty Hall problem\n",
        "for game in range(1, num_simulations + 1):\n",
        "    # Randomly place the car behind one of the three doors\n",
        "    car_door = np.random.randint(0, 3)\n",
        "\n",
        "    # Contestant's initial choice of door\n",
        "    contestant_choice = np.random.randint(0, 3)\n",
        "\n",
        "    # Host opens a door that doesn't have the car and isn't the contestant's choice\n",
        "    possible_doors = [door for door in range(3) if door != car_door and door != contestant_choice]\n",
        "    host_door = np.random.choice(possible_doors)\n",
        "\n",
        "    # If the contestant stays with their initial choice\n",
        "    if contestant_choice == car_door:\n",
        "        stay_wins += 1\n",
        "\n",
        "    # If the contestant switches\n",
        "    if contestant_choice != car_door:\n",
        "        switch_wins += 1\n",
        "\n",
        "    # Update cumulative results\n",
        "    stay_cumulative_wins.append(stay_wins)\n",
        "    switch_cumulative_wins.append(switch_wins)\n",
        "    games_played.append(game)"
      ],
      "metadata": {
        "id": "41BjH3Hiqoai"
      },
      "execution_count": 3,
      "outputs": []
    },
    {
      "cell_type": "markdown",
      "source": [
        "Calculate win percentages"
      ],
      "metadata": {
        "id": "PwjV9vXfqpfy"
      }
    },
    {
      "cell_type": "code",
      "source": [
        "# Calculate percentages of games won\n",
        "stay_win_percentage = [wins / game * 100 for wins, game in zip(stay_cumulative_wins, games_played)]\n",
        "switch_win_percentage = [wins / game * 100 for wins, game in zip(switch_cumulative_wins, games_played)]\n"
      ],
      "metadata": {
        "id": "SXlgHWpdqw4c"
      },
      "execution_count": 4,
      "outputs": []
    },
    {
      "cell_type": "markdown",
      "source": [
        "Plot how simulations converge"
      ],
      "metadata": {
        "id": "8qTgiAJMqyXd"
      }
    },
    {
      "cell_type": "code",
      "source": [
        "# Plot 1: Cumulative number of games won by staying or switching\n",
        "plt.subplot(2, 1, 1)\n",
        "plt.plot(games_played, stay_cumulative_wins, label='Stay Wins (Cumulative)')\n",
        "plt.plot(games_played, switch_cumulative_wins, label='Switch Wins (Cumulative)')\n",
        "plt.title(\"Cumulative Number of Games Won by Staying or Switching\")\n",
        "plt.xlabel(\"Number of Games Played\")\n",
        "plt.ylabel(\"Cumulative Wins\")\n",
        "plt.legend()\n",
        "plt.grid()\n",
        "\n",
        "# Plot 2: Percentage of games won vs number of games played\n",
        "plt.subplot(2, 1, 2)\n",
        "plt.plot(games_played, stay_win_percentage, label='Stay Win %')\n",
        "plt.plot(games_played, switch_win_percentage, label='Switch Win %')\n",
        "plt.title(\"Number of Games Played vs % of Games Won\")\n",
        "plt.xlabel(\"Number of Games Played\")\n",
        "plt.ylabel(\"Percentage of Games Won (%)\")\n",
        "plt.legend()\n",
        "plt.grid()\n",
        "\n",
        "plt.tight_layout()\n",
        "plt.show()"
      ],
      "metadata": {
        "id": "eoKlKCDSq4E_"
      },
      "execution_count": null,
      "outputs": []
    }
  ]
}